{
 "cells": [
  {
   "cell_type": "markdown",
   "id": "c96743c5",
   "metadata": {},
   "source": [
    "# Crash Insight: A Data-Driven Analysis of Road Accidents in India\n",
    "### Mini Project – AIML SEM IV (Descriptive EDA + ML)\n",
    "\n",
    "India witnesses a large number of road accidents each year, resulting in significant loss of life. This project uses real accident data to perform a descriptive exploratory data analysis (EDA) and a simple linear regression model to predict fatalities based on the number of road accidents.\n",
    "\n",
    "### Objectives:\n",
    "- Analyze road accident and fatality trends year-wise and state-wise.\n",
    "- Identify top 5 states contributing to road fatalities.\n",
    "- Predict fatality count from accident count using Linear Regression.\n",
    "- Recommend actionable insights for road safety."
   ]
  },
  {
   "cell_type": "markdown",
   "id": "bdeb332c",
   "metadata": {},
   "source": [
    "### Importing Libraries"
   ]
  },
  {
   "cell_type": "code",
   "execution_count": null,
   "id": "d0e1189d",
   "metadata": {},
   "outputs": [],
   "source": [
    "import pandas as pd\n",
    "import matplotlib.pyplot as plt\n",
    "import seaborn as sns\n",
    "from sklearn.linear_model import LinearRegression\n",
    "from sklearn.metrics import r2_score\n",
    "from sklearn.preprocessing import StandardScaler"
   ]
  },
  {
   "cell_type": "markdown",
   "id": "bad2e185",
   "metadata": {},
   "source": [
    "### Loading Datasets"
   ]
  },
  {
   "cell_type": "code",
   "execution_count": null,
   "id": "6352368f",
   "metadata": {},
   "outputs": [],
   "source": [
    "df = pd.read_csv(\"RS_Session_266_AU_2647_1.csv\")\n",
    "\n",
    "df.columns = df.columns.str.strip().str.replace(\" \", \"_\")\n",
    "\n",
    "df.head()"
   ]
  },
  {
   "cell_type": "markdown",
   "id": "95b8721a",
   "metadata": {},
   "source": [
    "### Data Cleaning"
   ]
  },
  {
   "cell_type": "code",
   "execution_count": null,
   "id": "e0005c70",
   "metadata": {},
   "outputs": [],
   "source": [
    "print(\"Missing values in dataset:\")\n",
    "print(df.isnull().sum())\n",
    "\n",
    "df = df.dropna()\n",
    "\n",
    "print(df.head())"
   ]
  },
  {
   "cell_type": "markdown",
   "id": "c0c1f4ca",
   "metadata": {},
   "source": [
    "### Total Accidents in 2021 and 2022"
   ]
  },
  {
   "cell_type": "code",
   "execution_count": null,
   "id": "3cde298a",
   "metadata": {},
   "outputs": [],
   "source": [
    "yearly_stats = df[[\"2021\", \"2022\"]].sum().reset_index()\n",
    "\n",
    "yearly_stats.columns = ['Year', 'Total_Road_Accidents']\n",
    "\n",
    "plt.figure(figsize=(12, 5))\n",
    "sns.lineplot(data=yearly_stats, x=\"Year\", y=\"Total_Road_Accidents\", marker=\"o\")\n",
    "plt.title(\"Total Road Accidents for 2021 and 2022\")\n",
    "plt.ylabel(\"Total Road Accidents\")\n",
    "plt.xlabel(\"Year\")\n",
    "plt.show()"
   ]
  },
  {
   "cell_type": "markdown",
   "id": "d0018dcc",
   "metadata": {},
   "source": [
    "### Top 5 States by Accidents in 2021 and 2022"
   ]
  },
  {
   "cell_type": "code",
   "execution_count": null,
   "id": "e3e2424b",
   "metadata": {},
   "outputs": [],
   "source": [
    "top_accidents_2021 = df[[\"State_UT\", \"2021\"]].sort_values(by=\"2021\", ascending=False).head(5)\n",
    "\n",
    "top_accidents_2022 = df[[\"State_UT\", \"2022\"]].sort_values(by=\"2022\", ascending=False).head(5)\n",
    "\n",
    "plt.figure(figsize=(14, 5))\n",
    "\n",
    "plt.subplot(1, 2, 1)\n",
    "sns.barplot(data=top_accidents_2021, y=\"State_UT\", x=\"2021\", palette=\"Blues_d\")\n",
    "plt.title(\"Top 5 States by Road Accidents in 2021\")\n",
    "\n",
    "plt.subplot(1, 2, 2)\n",
    "sns.barplot(data=top_accidents_2022, y=\"State_UT\", x=\"2022\", palette=\"Reds_d\")\n",
    "plt.title(\"Top 5 States by Road Accidents in 2022\")\n",
    "\n",
    "plt.tight_layout()\n",
    "plt.show()"
   ]
  },
  {
   "cell_type": "markdown",
   "id": "25342067",
   "metadata": {},
   "source": [
    "### Fatality Rate for the top 5 States (2022)"
   ]
  },
  {
   "cell_type": "code",
   "execution_count": null,
   "id": "ae28b1c2",
   "metadata": {},
   "outputs": [],
   "source": [
    "df[\"Fatality_Rate_%\"] = (df[\"2022\"] / df[\"2021\"]) * 100\n",
    "\n",
    "top_fatality_rates = df.sort_values(by=\"Fatality_Rate_%\", ascending=False).head(5)\n",
    "\n",
    "plt.figure(figsize=(10, 6))\n",
    "sns.barplot(data=top_fatality_rates, x=\"Fatality_Rate_%\", y=\"State_UT\", palette=\"magma\")\n",
    "plt.title(\"Top 5 States by Fatality Rate (%) – 2022\")\n",
    "plt.xlabel(\"Fatality Rate (%)\")\n",
    "plt.ylabel(\"State/UT\")\n",
    "plt.show()"
   ]
  },
  {
   "cell_type": "markdown",
   "id": "d8c08706",
   "metadata": {},
   "source": [
    "### Correlation matrix"
   ]
  },
  {
   "cell_type": "code",
   "execution_count": null,
   "id": "f83adba6",
   "metadata": {},
   "outputs": [],
   "source": [
    "df_numeric = df[[\"2021\", \"2022\"]]\n",
    "\n",
    "plt.figure(figsize=(8, 5))\n",
    "sns.heatmap(df_numeric.corr(), annot=True, cmap=\"coolwarm\", fmt=\".2f\")\n",
    "plt.title(\"Correlation Matrix: Accidents in 2021 & 2022\")\n",
    "plt.show()"
   ]
  },
  {
   "cell_type": "markdown",
   "id": "5552226a",
   "metadata": {},
   "source": [
    "### Actual vs Predicted Fatalities"
   ]
  },
  {
   "cell_type": "code",
   "execution_count": null,
   "id": "a19f79c6",
   "metadata": {},
   "outputs": [],
   "source": [
    "X = df[[\"2021\"]]\n",
    "y = df[\"2022\"]\n",
    "\n",
    "model = LinearRegression()\n",
    "model.fit(X, y)\n",
    "\n",
    "y_pred = model.predict(X)\n",
    "\n",
    "df[\"Predicted_Fatalities\"] = y_pred\n",
    "\n",
    "plt.figure(figsize=(10, 6))\n",
    "sns.scatterplot(x=y, y=y_pred, label=\"Predicted vs Actual\")\n",
    "plt.plot([y.min(), y.max()], [y.min(), y.max()], '--r', label=\"Ideal Fit (y = x)\")\n",
    "plt.xlabel(\"Actual Fatalities (2022)\")\n",
    "plt.ylabel(\"Predicted Fatalities\")\n",
    "plt.title(\"Linear Regression: Actual vs Predicted Fatalities\")\n",
    "plt.legend(loc=\"upper left\")\n",
    "plt.grid(True)\n",
    "plt.show()\n",
    "\n",
    "r2 = r2_score(y, y_pred)\n",
    "print(f\"R² Score: {r2:.2f}\")"
   ]
  },
  {
   "cell_type": "markdown",
   "id": "f141f24f",
   "metadata": {},
   "source": [
    "## Conclusion\n",
    "\n",
    "- Road accidents across Indian states remain a significant concern, with Tamil Nadu and Madhya Pradesh consistently reporting high accident counts.\n",
    "\n",
    "- In 2022, Tamil Nadu recorded the highest number of road accidents (64,105), while Madhya Pradesh followed with 54,432.\n",
    "\n",
    "- There is a strong linear relationship between the number of road accidents in one year and fatalities in the next year, as evidenced by an R² score of approximately 0.99 from the linear regression model.\n",
    "\n",
    "- States with fewer accidents are not always the safest — their fatality rates (deaths per accident) sometimes reveal a more severe risk.\n",
    "\n",
    "## Future Scope\n",
    "\n",
    "- Add more granular data such as vehicle type, time of day, road type, and weather conditions to enhance the predictive power of models.\n",
    "\n",
    "- Use time series forecasting to project future accident trends per state.\n",
    "\n",
    "- Develop a classification model to flag \"high-risk\" states based on multi-year patterns in accidents and fatalities.\n",
    "\n",
    "- Incorporate geospatial visualization (e.g., choropleth maps) to show accident density across India visually.\n",
    "\n",
    "> **Recommendation:** Authorities and policymakers should leverage such predictive insights to allocate resources, improve infrastructure, and educate drivers in regions identified as high-risk zones."
   ]
  }
 ],
 "metadata": {
  "kernelspec": {
   "display_name": "venv",
   "language": "python",
   "name": "python3"
  },
  "language_info": {
   "codemirror_mode": {
    "name": "ipython",
    "version": 3
   },
   "file_extension": ".py",
   "mimetype": "text/x-python",
   "name": "python",
   "nbconvert_exporter": "python",
   "pygments_lexer": "ipython3",
   "version": "3.10.0"
  }
 },
 "nbformat": 4,
 "nbformat_minor": 5
}
